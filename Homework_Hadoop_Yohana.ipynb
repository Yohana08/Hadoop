{
  "nbformat": 4,
  "nbformat_minor": 0,
  "metadata": {
    "colab": {
      "provenance": []
    },
    "kernelspec": {
      "name": "python3",
      "display_name": "Python 3"
    },
    "language_info": {
      "name": "python"
    }
  },
  "cells": [
    {
      "cell_type": "code",
      "execution_count": 1,
      "metadata": {
        "id": "BwX4P4a9_Jyd"
      },
      "outputs": [],
      "source": [
        "import requests"
      ]
    },
    {
      "cell_type": "code",
      "source": [
        "url = \"https://www.dpr.go.id/jdih/uu1945\"\n",
        "response = requests.get(url)\n",
        "\n",
        "with open(\"pembukaan_uud1945.txt\", \"w\") as file:\n",
        "    file.write(response.text)"
      ],
      "metadata": {
        "id": "CADNObbr_USr"
      },
      "execution_count": 2,
      "outputs": []
    },
    {
      "cell_type": "code",
      "source": [
        "import sys"
      ],
      "metadata": {
        "id": "Eg9tXxcA_b8I"
      },
      "execution_count": 3,
      "outputs": []
    },
    {
      "cell_type": "code",
      "source": [
        "for line in sys.stdin:\n",
        "    words = line.strip().split()\n",
        "    for word in words:\n",
        "        print(f\"{word}\\t1\")"
      ],
      "metadata": {
        "id": "oqrd1gFjfMup"
      },
      "execution_count": 4,
      "outputs": []
    },
    {
      "cell_type": "code",
      "source": [
        "import sys\n",
        "from collections import defaultdict\n",
        "\n",
        "word_count = defaultdict(int)\n",
        "\n",
        "for line in sys.stdin:\n",
        "    word, count = line.strip().split(\"\\t\")\n",
        "    word_count[word] += int(count)\n",
        "\n",
        "for word, count in word_count.items():\n",
        "    print(f\"{word}\\t{count}\")\n"
      ],
      "metadata": {
        "id": "t8BBmvGVfReM"
      },
      "execution_count": 6,
      "outputs": []
    },
    {
      "cell_type": "code",
      "source": [
        "!wget https://dlcdn.apache.org/hadoop/common/hadoop-3.2.3/hadoop-3.2.3.tar.gz\n",
        "!tar -xzf hadoop-3.2.3.tar.gz\n",
        "!mv hadoop-3.2.3 /usr/local/hadoop\n"
      ],
      "metadata": {
        "colab": {
          "base_uri": "https://localhost:8080/"
        },
        "id": "aR_ytZxapgzi",
        "outputId": "0b6bc6ad-dcd7-41d9-f032-42c8e8f8caf5"
      },
      "execution_count": 29,
      "outputs": [
        {
          "output_type": "stream",
          "name": "stdout",
          "text": [
            "--2024-12-05 16:27:57--  https://dlcdn.apache.org/hadoop/common/hadoop-3.2.3/hadoop-3.2.3.tar.gz\n",
            "Resolving dlcdn.apache.org (dlcdn.apache.org)... 151.101.2.132, 2a04:4e42::644\n",
            "Connecting to dlcdn.apache.org (dlcdn.apache.org)|151.101.2.132|:443... connected.\n",
            "HTTP request sent, awaiting response... 404 Not Found\n",
            "2024-12-05 16:27:57 ERROR 404: Not Found.\n",
            "\n",
            "tar (child): hadoop-3.2.3.tar.gz: Cannot open: No such file or directory\n",
            "tar (child): Error is not recoverable: exiting now\n",
            "tar: Child returned status 2\n",
            "tar: Error is not recoverable: exiting now\n",
            "mv: cannot stat 'hadoop-3.2.3': No such file or directory\n"
          ]
        }
      ]
    },
    {
      "cell_type": "code",
      "source": [
        "## Pakai Hadoop-3.3.6 karena hadoop-3.2.3 tidak ada di local\n",
        "\n",
        "!wget https://dlcdn.apache.org/hadoop/common/hadoop-3.3.6/hadoop-3.3.6.tar.gz\n",
        "!tar -xzf hadoop-3.3.6.tar.gz\n",
        "!mv hadoop-3.3.6 /usr/local/hadoop\n"
      ],
      "metadata": {
        "colab": {
          "base_uri": "https://localhost:8080/"
        },
        "id": "46umtjQ6fbWg",
        "outputId": "85c62f72-0b42-4963-f3d7-0a27f04380c3"
      },
      "execution_count": 30,
      "outputs": [
        {
          "output_type": "stream",
          "name": "stdout",
          "text": [
            "--2024-12-05 16:28:03--  https://dlcdn.apache.org/hadoop/common/hadoop-3.3.6/hadoop-3.3.6.tar.gz\n",
            "Resolving dlcdn.apache.org (dlcdn.apache.org)... 151.101.2.132, 2a04:4e42::644\n",
            "Connecting to dlcdn.apache.org (dlcdn.apache.org)|151.101.2.132|:443... connected.\n",
            "HTTP request sent, awaiting response... 200 OK\n",
            "Length: 730107476 (696M) [application/x-gzip]\n",
            "Saving to: ‘hadoop-3.3.6.tar.gz.1’\n",
            "\n",
            "hadoop-3.3.6.tar.gz 100%[===================>] 696.28M   124MB/s    in 10s     \n",
            "\n",
            "2024-12-05 16:28:13 (67.7 MB/s) - ‘hadoop-3.3.6.tar.gz.1’ saved [730107476/730107476]\n",
            "\n"
          ]
        }
      ]
    },
    {
      "cell_type": "code",
      "source": [
        "# Cek lokasi Java\n",
        "!update-alternatives --config java\n",
        "\n"
      ],
      "metadata": {
        "colab": {
          "base_uri": "https://localhost:8080/"
        },
        "id": "d05_gde8iRuE",
        "outputId": "4bc77474-00d8-4697-ee72-500dafd247cb"
      },
      "execution_count": 10,
      "outputs": [
        {
          "output_type": "stream",
          "name": "stdout",
          "text": [
            "There are 2 choices for the alternative java (providing /usr/bin/java).\n",
            "\n",
            "  Selection    Path                                            Priority   Status\n",
            "------------------------------------------------------------\n",
            "* 0            /usr/lib/jvm/java-11-openjdk-amd64/bin/java      1111      auto mode\n",
            "  1            /usr/lib/jvm/java-11-openjdk-amd64/bin/java      1111      manual mode\n",
            "  2            /usr/lib/jvm/java-8-openjdk-amd64/jre/bin/java   1081      manual mode\n",
            "\n",
            "Press <enter> to keep the current choice[*], or type selection number: 2\n",
            "update-alternatives: using /usr/lib/jvm/java-8-openjdk-amd64/jre/bin/java to provide /usr/bin/java (java) in manual mode\n"
          ]
        }
      ]
    },
    {
      "cell_type": "code",
      "source": [
        "# Set JAVA_HOME untuk Java 8\n",
        "import os\n",
        "os.environ['JAVA_HOME'] = '/usr/lib/jvm/java-8-openjdk-amd64'\n",
        "\n",
        "# Tambahkan Hadoop ke PATH\n",
        "os.environ['PATH'] += os.pathsep + '/usr/local/hadoop/bin'\n"
      ],
      "metadata": {
        "id": "extaa2E-iiS2"
      },
      "execution_count": 11,
      "outputs": []
    },
    {
      "cell_type": "code",
      "source": [
        "!/usr/local/hadoop/bin/hadoop version\n"
      ],
      "metadata": {
        "colab": {
          "base_uri": "https://localhost:8080/"
        },
        "id": "GngTWigUipJ0",
        "outputId": "97e64df4-059f-4dde-c8e0-48ffeb835606"
      },
      "execution_count": 12,
      "outputs": [
        {
          "output_type": "stream",
          "name": "stdout",
          "text": [
            "Hadoop 3.3.6\n",
            "Source code repository https://github.com/apache/hadoop.git -r 1be78238728da9266a4f88195058f08fd012bf9c\n",
            "Compiled by ubuntu on 2023-06-18T08:22Z\n",
            "Compiled on platform linux-x86_64\n",
            "Compiled with protoc 3.7.1\n",
            "From source with checksum 5652179ad55f76cb287d9c633bb53bbd\n",
            "This command was run using /usr/local/hadoop/share/hadoop/common/hadoop-common-3.3.6.jar\n"
          ]
        }
      ]
    },
    {
      "cell_type": "code",
      "source": [
        "from google.colab import files\n",
        "files.upload()  # Pilih pembukaan_uud1945.txt dari komputer Anda\n"
      ],
      "metadata": {
        "colab": {
          "base_uri": "https://localhost:8080/",
          "height": 264
        },
        "id": "IcuvlOzZjzQa",
        "outputId": "ad52f9d1-96be-4a02-ff1d-5a4981c3c1e4"
      },
      "execution_count": 13,
      "outputs": [
        {
          "output_type": "display_data",
          "data": {
            "text/plain": [
              "<IPython.core.display.HTML object>"
            ],
            "text/html": [
              "\n",
              "     <input type=\"file\" id=\"files-fe0295ee-a846-48c8-a640-f1f173fc61e6\" name=\"files[]\" multiple disabled\n",
              "        style=\"border:none\" />\n",
              "     <output id=\"result-fe0295ee-a846-48c8-a640-f1f173fc61e6\">\n",
              "      Upload widget is only available when the cell has been executed in the\n",
              "      current browser session. Please rerun this cell to enable.\n",
              "      </output>\n",
              "      <script>// Copyright 2017 Google LLC\n",
              "//\n",
              "// Licensed under the Apache License, Version 2.0 (the \"License\");\n",
              "// you may not use this file except in compliance with the License.\n",
              "// You may obtain a copy of the License at\n",
              "//\n",
              "//      http://www.apache.org/licenses/LICENSE-2.0\n",
              "//\n",
              "// Unless required by applicable law or agreed to in writing, software\n",
              "// distributed under the License is distributed on an \"AS IS\" BASIS,\n",
              "// WITHOUT WARRANTIES OR CONDITIONS OF ANY KIND, either express or implied.\n",
              "// See the License for the specific language governing permissions and\n",
              "// limitations under the License.\n",
              "\n",
              "/**\n",
              " * @fileoverview Helpers for google.colab Python module.\n",
              " */\n",
              "(function(scope) {\n",
              "function span(text, styleAttributes = {}) {\n",
              "  const element = document.createElement('span');\n",
              "  element.textContent = text;\n",
              "  for (const key of Object.keys(styleAttributes)) {\n",
              "    element.style[key] = styleAttributes[key];\n",
              "  }\n",
              "  return element;\n",
              "}\n",
              "\n",
              "// Max number of bytes which will be uploaded at a time.\n",
              "const MAX_PAYLOAD_SIZE = 100 * 1024;\n",
              "\n",
              "function _uploadFiles(inputId, outputId) {\n",
              "  const steps = uploadFilesStep(inputId, outputId);\n",
              "  const outputElement = document.getElementById(outputId);\n",
              "  // Cache steps on the outputElement to make it available for the next call\n",
              "  // to uploadFilesContinue from Python.\n",
              "  outputElement.steps = steps;\n",
              "\n",
              "  return _uploadFilesContinue(outputId);\n",
              "}\n",
              "\n",
              "// This is roughly an async generator (not supported in the browser yet),\n",
              "// where there are multiple asynchronous steps and the Python side is going\n",
              "// to poll for completion of each step.\n",
              "// This uses a Promise to block the python side on completion of each step,\n",
              "// then passes the result of the previous step as the input to the next step.\n",
              "function _uploadFilesContinue(outputId) {\n",
              "  const outputElement = document.getElementById(outputId);\n",
              "  const steps = outputElement.steps;\n",
              "\n",
              "  const next = steps.next(outputElement.lastPromiseValue);\n",
              "  return Promise.resolve(next.value.promise).then((value) => {\n",
              "    // Cache the last promise value to make it available to the next\n",
              "    // step of the generator.\n",
              "    outputElement.lastPromiseValue = value;\n",
              "    return next.value.response;\n",
              "  });\n",
              "}\n",
              "\n",
              "/**\n",
              " * Generator function which is called between each async step of the upload\n",
              " * process.\n",
              " * @param {string} inputId Element ID of the input file picker element.\n",
              " * @param {string} outputId Element ID of the output display.\n",
              " * @return {!Iterable<!Object>} Iterable of next steps.\n",
              " */\n",
              "function* uploadFilesStep(inputId, outputId) {\n",
              "  const inputElement = document.getElementById(inputId);\n",
              "  inputElement.disabled = false;\n",
              "\n",
              "  const outputElement = document.getElementById(outputId);\n",
              "  outputElement.innerHTML = '';\n",
              "\n",
              "  const pickedPromise = new Promise((resolve) => {\n",
              "    inputElement.addEventListener('change', (e) => {\n",
              "      resolve(e.target.files);\n",
              "    });\n",
              "  });\n",
              "\n",
              "  const cancel = document.createElement('button');\n",
              "  inputElement.parentElement.appendChild(cancel);\n",
              "  cancel.textContent = 'Cancel upload';\n",
              "  const cancelPromise = new Promise((resolve) => {\n",
              "    cancel.onclick = () => {\n",
              "      resolve(null);\n",
              "    };\n",
              "  });\n",
              "\n",
              "  // Wait for the user to pick the files.\n",
              "  const files = yield {\n",
              "    promise: Promise.race([pickedPromise, cancelPromise]),\n",
              "    response: {\n",
              "      action: 'starting',\n",
              "    }\n",
              "  };\n",
              "\n",
              "  cancel.remove();\n",
              "\n",
              "  // Disable the input element since further picks are not allowed.\n",
              "  inputElement.disabled = true;\n",
              "\n",
              "  if (!files) {\n",
              "    return {\n",
              "      response: {\n",
              "        action: 'complete',\n",
              "      }\n",
              "    };\n",
              "  }\n",
              "\n",
              "  for (const file of files) {\n",
              "    const li = document.createElement('li');\n",
              "    li.append(span(file.name, {fontWeight: 'bold'}));\n",
              "    li.append(span(\n",
              "        `(${file.type || 'n/a'}) - ${file.size} bytes, ` +\n",
              "        `last modified: ${\n",
              "            file.lastModifiedDate ? file.lastModifiedDate.toLocaleDateString() :\n",
              "                                    'n/a'} - `));\n",
              "    const percent = span('0% done');\n",
              "    li.appendChild(percent);\n",
              "\n",
              "    outputElement.appendChild(li);\n",
              "\n",
              "    const fileDataPromise = new Promise((resolve) => {\n",
              "      const reader = new FileReader();\n",
              "      reader.onload = (e) => {\n",
              "        resolve(e.target.result);\n",
              "      };\n",
              "      reader.readAsArrayBuffer(file);\n",
              "    });\n",
              "    // Wait for the data to be ready.\n",
              "    let fileData = yield {\n",
              "      promise: fileDataPromise,\n",
              "      response: {\n",
              "        action: 'continue',\n",
              "      }\n",
              "    };\n",
              "\n",
              "    // Use a chunked sending to avoid message size limits. See b/62115660.\n",
              "    let position = 0;\n",
              "    do {\n",
              "      const length = Math.min(fileData.byteLength - position, MAX_PAYLOAD_SIZE);\n",
              "      const chunk = new Uint8Array(fileData, position, length);\n",
              "      position += length;\n",
              "\n",
              "      const base64 = btoa(String.fromCharCode.apply(null, chunk));\n",
              "      yield {\n",
              "        response: {\n",
              "          action: 'append',\n",
              "          file: file.name,\n",
              "          data: base64,\n",
              "        },\n",
              "      };\n",
              "\n",
              "      let percentDone = fileData.byteLength === 0 ?\n",
              "          100 :\n",
              "          Math.round((position / fileData.byteLength) * 100);\n",
              "      percent.textContent = `${percentDone}% done`;\n",
              "\n",
              "    } while (position < fileData.byteLength);\n",
              "  }\n",
              "\n",
              "  // All done.\n",
              "  yield {\n",
              "    response: {\n",
              "      action: 'complete',\n",
              "    }\n",
              "  };\n",
              "}\n",
              "\n",
              "scope.google = scope.google || {};\n",
              "scope.google.colab = scope.google.colab || {};\n",
              "scope.google.colab._files = {\n",
              "  _uploadFiles,\n",
              "  _uploadFilesContinue,\n",
              "};\n",
              "})(self);\n",
              "</script> "
            ]
          },
          "metadata": {}
        },
        {
          "output_type": "stream",
          "name": "stdout",
          "text": [
            "Saving pembukaan_uud1945.txt to pembukaan_uud1945 (1).txt\n"
          ]
        },
        {
          "output_type": "execute_result",
          "data": {
            "text/plain": [
              "{'pembukaan_uud1945 (1).txt': b'UNDANG-UNDANG DASAR NEGARA REPUBLIK INDONESIA TAHUN 1945\\r\\nPEMBUKAAN\\r\\n( P r e a m b u l e)\\r\\n\\r\\n\\r\\nBahwa sesungguhnya Kemerdekaan itu ialah hak segala bangsa dan oleh sebab itu, maka penjajahan di atas dunia harus dihapuskan, karena tidak sesuai dengan perikemanusiaan dan perikeadilan.\\r\\n\\r\\n\\r\\nDan perjuangan pergerakan kemerdekaan Indonesia telah sampailah kepada saat yang berbahagia dengan selamat sentausa mengantarkan rakyat Indonesia ke depan pintu gerbang kemerdekaan Negara Indonesia, yang merdeka, bersatu, berdaulat, adil dan makmur.\\r\\n\\r\\n\\r\\nAtas berkat rakhmat Allah Yang Maha Kuasa dan dengan didorongkan oleh keinginan luhur, supaya berkehidupan kebangsaan yang bebas, maka rakyat Indonesia menyatakan dengan ini kemerdekaannya.\\r\\n\\r\\n\\r\\nKemudian daripada itu untuk membentuk suatu Pemerintah Negara Indonesia yang melindungi segenap bangsa Indonesia dan seluruh tumpah darah Indonesia dan untuk memajukan kesejahteraan umum, mencerdaskan kehidupan bangsa, dan ikut melaksanakan ketertiban dunia yang berdasarkan kemerdekaan, perdamaian abadi dan keadilan sosial, maka disusunlah Kemerdekaan Kebangsaan Indonesia itu dalam suatu Undang-Undang Dasar Negara Indonesia, yang terbentuk dalam suatu susunan Negara Republik Indonesia yang berkedaulatan rakyat dengan berdasar kepada Ketuhanan Yang Maha Esa, Kemanusiaan yang adil dan beradab, Persatuan Indonesia dan Kerakyatan yang dipimpin oleh hikmat kebijaksanaan dalam Permusyawaratan/Perwakilan, serta dengan mewujudkan suatu Keadilan sosial bagi seluruh rakyat Indonesia.\\r\\n'}"
            ]
          },
          "metadata": {},
          "execution_count": 13
        }
      ]
    },
    {
      "cell_type": "code",
      "source": [
        "## Code mapper.py\n",
        "\n",
        "with open(\"mapper.py\", \"w\") as f:\n",
        "    f.write(\"\"\"import sys\n",
        "for line in sys.stdin:\n",
        "    words = line.strip().split()\n",
        "    for word in words:\n",
        "        print(f\"{word}\\\\t1\")\n",
        "\"\"\")\n",
        "\n",
        "\n"
      ],
      "metadata": {
        "id": "6j4tHwqCkUYL"
      },
      "execution_count": 17,
      "outputs": []
    },
    {
      "cell_type": "code",
      "source": [
        "## code reduce.py\n",
        "\n",
        "with open(\"reducer.py\", \"w\") as f:\n",
        "    f.write(\"\"\"import sys\n",
        "from collections import defaultdict\n",
        "\n",
        "word_count = defaultdict(int)\n",
        "\n",
        "for line in sys.stdin:\n",
        "    word, count = line.strip().split(\"\\\\t\")\n",
        "    word_count[word] += int(count)\n",
        "\n",
        "for word, count in word_count.items():\n",
        "    print(f\"{word}\\\\t{count}\")\n",
        "\"\"\")\n",
        "\n"
      ],
      "metadata": {
        "id": "rCL56f4yk5pu"
      },
      "execution_count": 21,
      "outputs": []
    },
    {
      "cell_type": "code",
      "source": [
        "!/usr/local/hadoop/bin/hadoop jar /usr/local/hadoop/share/hadoop/tools/lib/hadoop-streaming-3.2.3.jar \\\n",
        "-input /content/pembukaan_uud1945.txt \\\n",
        "-output output_dir \\\n",
        "-mapper \"python3 /content/mapper.py\" \\\n",
        "-reducer \"python3 /content/reducer.py\"\n"
      ],
      "metadata": {
        "colab": {
          "base_uri": "https://localhost:8080/"
        },
        "id": "wp_dXy0JpA-P",
        "outputId": "a9ea6343-c58e-432d-8e9e-3af99245c4fe"
      },
      "execution_count": 27,
      "outputs": [
        {
          "output_type": "stream",
          "name": "stdout",
          "text": [
            "JAR does not exist or is not a normal file: /usr/local/hadoop/share/hadoop/tools/lib/hadoop-streaming-3.2.3.jar\n"
          ]
        }
      ]
    },
    {
      "cell_type": "code",
      "source": [
        "## Hadoop Streaming\n",
        "!/usr/local/hadoop/bin/hadoop jar /usr/local/hadoop/share/hadoop/tools/lib/hadoop-streaming-3.3.6.jar \\\n",
        "-input pembukaan_uud1945.txt \\\n",
        "-output output_dir \\\n",
        "-mapper \"python3 mapper.py\" \\\n",
        "-reducer \"python3 reducer.py\"\n"
      ],
      "metadata": {
        "colab": {
          "base_uri": "https://localhost:8080/"
        },
        "id": "sz3_HhWTlbcX",
        "outputId": "0ce8213f-8ca8-4e2a-f1cc-e1d175010229"
      },
      "execution_count": 22,
      "outputs": [
        {
          "output_type": "stream",
          "name": "stdout",
          "text": [
            "2024-12-05 16:10:09,207 INFO impl.MetricsConfig: Loaded properties from hadoop-metrics2.properties\n",
            "2024-12-05 16:10:09,449 INFO impl.MetricsSystemImpl: Scheduled Metric snapshot period at 10 second(s).\n",
            "2024-12-05 16:10:09,449 INFO impl.MetricsSystemImpl: JobTracker metrics system started\n",
            "2024-12-05 16:10:09,503 WARN impl.MetricsSystemImpl: JobTracker metrics system already initialized!\n",
            "2024-12-05 16:10:09,964 INFO mapred.FileInputFormat: Total input files to process : 1\n",
            "2024-12-05 16:10:10,017 INFO mapreduce.JobSubmitter: number of splits:1\n",
            "2024-12-05 16:10:10,443 INFO mapreduce.JobSubmitter: Submitting tokens for job: job_local961905387_0001\n",
            "2024-12-05 16:10:10,444 INFO mapreduce.JobSubmitter: Executing with tokens: []\n",
            "2024-12-05 16:10:10,878 INFO mapreduce.Job: The url to track the job: http://localhost:8080/\n",
            "2024-12-05 16:10:10,881 INFO mapred.LocalJobRunner: OutputCommitter set in config null\n",
            "2024-12-05 16:10:10,882 INFO mapreduce.Job: Running job: job_local961905387_0001\n",
            "2024-12-05 16:10:10,884 INFO mapred.LocalJobRunner: OutputCommitter is org.apache.hadoop.mapred.FileOutputCommitter\n",
            "2024-12-05 16:10:10,901 INFO output.FileOutputCommitter: File Output Committer Algorithm version is 2\n",
            "2024-12-05 16:10:10,902 INFO output.FileOutputCommitter: FileOutputCommitter skip cleanup _temporary folders under output directory:false, ignore cleanup failures: false\n",
            "2024-12-05 16:10:11,030 INFO mapred.LocalJobRunner: Waiting for map tasks\n",
            "2024-12-05 16:10:11,035 INFO mapred.LocalJobRunner: Starting task: attempt_local961905387_0001_m_000000_0\n",
            "2024-12-05 16:10:11,090 INFO output.FileOutputCommitter: File Output Committer Algorithm version is 2\n",
            "2024-12-05 16:10:11,093 INFO output.FileOutputCommitter: FileOutputCommitter skip cleanup _temporary folders under output directory:false, ignore cleanup failures: false\n",
            "2024-12-05 16:10:11,142 INFO mapred.Task:  Using ResourceCalculatorProcessTree : [ ]\n",
            "2024-12-05 16:10:11,161 INFO mapred.MapTask: Processing split: file:/content/pembukaan_uud1945.txt:0+3727\n",
            "2024-12-05 16:10:11,182 INFO mapred.MapTask: numReduceTasks: 1\n",
            "2024-12-05 16:10:11,358 INFO mapred.MapTask: (EQUATOR) 0 kvi 26214396(104857584)\n",
            "2024-12-05 16:10:11,358 INFO mapred.MapTask: mapreduce.task.io.sort.mb: 100\n",
            "2024-12-05 16:10:11,358 INFO mapred.MapTask: soft limit at 83886080\n",
            "2024-12-05 16:10:11,358 INFO mapred.MapTask: bufstart = 0; bufvoid = 104857600\n",
            "2024-12-05 16:10:11,358 INFO mapred.MapTask: kvstart = 26214396; length = 6553600\n",
            "2024-12-05 16:10:11,363 INFO mapred.MapTask: Map output collector class = org.apache.hadoop.mapred.MapTask$MapOutputBuffer\n",
            "2024-12-05 16:10:11,374 INFO streaming.PipeMapRed: PipeMapRed exec [/usr/bin/python3, mapper.py]\n",
            "2024-12-05 16:10:11,379 INFO Configuration.deprecation: mapred.work.output.dir is deprecated. Instead, use mapreduce.task.output.dir\n",
            "2024-12-05 16:10:11,382 INFO Configuration.deprecation: mapred.local.dir is deprecated. Instead, use mapreduce.cluster.local.dir\n",
            "2024-12-05 16:10:11,384 INFO Configuration.deprecation: map.input.file is deprecated. Instead, use mapreduce.map.input.file\n",
            "2024-12-05 16:10:11,385 INFO Configuration.deprecation: map.input.length is deprecated. Instead, use mapreduce.map.input.length\n",
            "2024-12-05 16:10:11,385 INFO Configuration.deprecation: mapred.job.id is deprecated. Instead, use mapreduce.job.id\n",
            "2024-12-05 16:10:11,386 INFO Configuration.deprecation: mapred.task.partition is deprecated. Instead, use mapreduce.task.partition\n",
            "2024-12-05 16:10:11,388 INFO Configuration.deprecation: map.input.start is deprecated. Instead, use mapreduce.map.input.start\n",
            "2024-12-05 16:10:11,388 INFO Configuration.deprecation: mapred.task.is.map is deprecated. Instead, use mapreduce.task.ismap\n",
            "2024-12-05 16:10:11,388 INFO Configuration.deprecation: mapred.task.id is deprecated. Instead, use mapreduce.task.attempt.id\n",
            "2024-12-05 16:10:11,389 INFO Configuration.deprecation: mapred.tip.id is deprecated. Instead, use mapreduce.task.id\n",
            "2024-12-05 16:10:11,389 INFO Configuration.deprecation: mapred.skip.on is deprecated. Instead, use mapreduce.job.skiprecords\n",
            "2024-12-05 16:10:11,390 INFO Configuration.deprecation: user.name is deprecated. Instead, use mapreduce.job.user.name\n",
            "2024-12-05 16:10:11,428 INFO streaming.PipeMapRed: R/W/S=1/0/0 in:NA [rec/s] out:NA [rec/s]\n",
            "2024-12-05 16:10:11,429 INFO streaming.PipeMapRed: R/W/S=10/0/0 in:NA [rec/s] out:NA [rec/s]\n",
            "2024-12-05 16:10:11,432 INFO streaming.PipeMapRed: R/W/S=100/0/0 in:NA [rec/s] out:NA [rec/s]\n",
            "2024-12-05 16:10:11,469 INFO streaming.PipeMapRed: Records R/W=100/1\n",
            "2024-12-05 16:10:11,480 INFO streaming.PipeMapRed: MRErrorThread done\n",
            "2024-12-05 16:10:11,480 INFO streaming.PipeMapRed: mapRedFinished\n",
            "2024-12-05 16:10:11,486 INFO mapred.LocalJobRunner: \n",
            "2024-12-05 16:10:11,486 INFO mapred.MapTask: Starting flush of map output\n",
            "2024-12-05 16:10:11,486 INFO mapred.MapTask: Spilling map output\n",
            "2024-12-05 16:10:11,486 INFO mapred.MapTask: bufstart = 0; bufend = 3224; bufvoid = 104857600\n",
            "2024-12-05 16:10:11,486 INFO mapred.MapTask: kvstart = 26214396(104857584); kvend = 26213376(104853504); length = 1021/6553600\n",
            "2024-12-05 16:10:11,509 INFO mapred.MapTask: Finished spill 0\n",
            "2024-12-05 16:10:11,536 INFO mapred.Task: Task:attempt_local961905387_0001_m_000000_0 is done. And is in the process of committing\n",
            "2024-12-05 16:10:11,540 INFO mapred.LocalJobRunner: Records R/W=100/1\n",
            "2024-12-05 16:10:11,540 INFO mapred.Task: Task 'attempt_local961905387_0001_m_000000_0' done.\n",
            "2024-12-05 16:10:11,551 INFO mapred.Task: Final Counters for attempt_local961905387_0001_m_000000_0: Counters: 17\n",
            "\tFile System Counters\n",
            "\t\tFILE: Number of bytes read=145137\n",
            "\t\tFILE: Number of bytes written=783868\n",
            "\t\tFILE: Number of read operations=0\n",
            "\t\tFILE: Number of large read operations=0\n",
            "\t\tFILE: Number of write operations=0\n",
            "\tMap-Reduce Framework\n",
            "\t\tMap input records=100\n",
            "\t\tMap output records=256\n",
            "\t\tMap output bytes=3224\n",
            "\t\tMap output materialized bytes=3742\n",
            "\t\tInput split bytes=87\n",
            "\t\tCombine input records=0\n",
            "\t\tSpilled Records=256\n",
            "\t\tFailed Shuffles=0\n",
            "\t\tMerged Map outputs=0\n",
            "\t\tGC time elapsed (ms)=0\n",
            "\t\tTotal committed heap usage (bytes)=258473984\n",
            "\tFile Input Format Counters \n",
            "\t\tBytes Read=3727\n",
            "2024-12-05 16:10:11,552 INFO mapred.LocalJobRunner: Finishing task: attempt_local961905387_0001_m_000000_0\n",
            "2024-12-05 16:10:11,553 INFO mapred.LocalJobRunner: map task executor complete.\n",
            "2024-12-05 16:10:11,557 INFO mapred.LocalJobRunner: Waiting for reduce tasks\n",
            "2024-12-05 16:10:11,558 INFO mapred.LocalJobRunner: Starting task: attempt_local961905387_0001_r_000000_0\n",
            "2024-12-05 16:10:11,570 INFO output.FileOutputCommitter: File Output Committer Algorithm version is 2\n",
            "2024-12-05 16:10:11,571 INFO output.FileOutputCommitter: FileOutputCommitter skip cleanup _temporary folders under output directory:false, ignore cleanup failures: false\n",
            "2024-12-05 16:10:11,571 INFO mapred.Task:  Using ResourceCalculatorProcessTree : [ ]\n",
            "2024-12-05 16:10:11,577 INFO mapred.ReduceTask: Using ShuffleConsumerPlugin: org.apache.hadoop.mapreduce.task.reduce.Shuffle@c5a49ac\n",
            "2024-12-05 16:10:11,580 WARN impl.MetricsSystemImpl: JobTracker metrics system already initialized!\n",
            "2024-12-05 16:10:11,630 INFO reduce.MergeManagerImpl: MergerManager: memoryLimit=2117966208, maxSingleShuffleLimit=529491552, mergeThreshold=1397857792, ioSortFactor=10, memToMemMergeOutputsThreshold=10\n",
            "2024-12-05 16:10:11,632 INFO reduce.EventFetcher: attempt_local961905387_0001_r_000000_0 Thread started: EventFetcher for fetching Map Completion Events\n",
            "2024-12-05 16:10:11,672 INFO reduce.LocalFetcher: localfetcher#1 about to shuffle output of map attempt_local961905387_0001_m_000000_0 decomp: 3738 len: 3742 to MEMORY\n",
            "2024-12-05 16:10:11,677 INFO reduce.InMemoryMapOutput: Read 3738 bytes from map-output for attempt_local961905387_0001_m_000000_0\n",
            "2024-12-05 16:10:11,679 INFO reduce.MergeManagerImpl: closeInMemoryFile -> map-output of size: 3738, inMemoryMapOutputs.size() -> 1, commitMemory -> 0, usedMemory ->3738\n",
            "2024-12-05 16:10:11,682 INFO reduce.EventFetcher: EventFetcher is interrupted.. Returning\n",
            "2024-12-05 16:10:11,684 INFO mapred.LocalJobRunner: 1 / 1 copied.\n",
            "2024-12-05 16:10:11,684 INFO reduce.MergeManagerImpl: finalMerge called with 1 in-memory map-outputs and 0 on-disk map-outputs\n",
            "2024-12-05 16:10:11,695 INFO mapred.Merger: Merging 1 sorted segments\n",
            "2024-12-05 16:10:11,695 INFO mapred.Merger: Down to the last merge-pass, with 1 segments left of total size: 3727 bytes\n",
            "2024-12-05 16:10:11,705 INFO reduce.MergeManagerImpl: Merged 1 segments, 3738 bytes to disk to satisfy reduce memory limit\n",
            "2024-12-05 16:10:11,706 INFO reduce.MergeManagerImpl: Merging 1 files, 3742 bytes from disk\n",
            "2024-12-05 16:10:11,708 INFO reduce.MergeManagerImpl: Merging 0 segments, 0 bytes from memory into reduce\n",
            "2024-12-05 16:10:11,708 INFO mapred.Merger: Merging 1 sorted segments\n",
            "2024-12-05 16:10:11,713 INFO mapred.Merger: Down to the last merge-pass, with 1 segments left of total size: 3727 bytes\n",
            "2024-12-05 16:10:11,714 INFO mapred.LocalJobRunner: 1 / 1 copied.\n",
            "2024-12-05 16:10:11,724 INFO streaming.PipeMapRed: PipeMapRed exec [/usr/bin/python3, reducer.py]\n",
            "2024-12-05 16:10:11,727 INFO Configuration.deprecation: mapred.job.tracker is deprecated. Instead, use mapreduce.jobtracker.address\n",
            "2024-12-05 16:10:11,729 INFO Configuration.deprecation: mapred.map.tasks is deprecated. Instead, use mapreduce.job.maps\n",
            "2024-12-05 16:10:11,748 INFO streaming.PipeMapRed: R/W/S=1/0/0 in:NA [rec/s] out:NA [rec/s]\n",
            "2024-12-05 16:10:11,749 INFO streaming.PipeMapRed: R/W/S=10/0/0 in:NA [rec/s] out:NA [rec/s]\n",
            "2024-12-05 16:10:11,751 INFO streaming.PipeMapRed: R/W/S=100/0/0 in:NA [rec/s] out:NA [rec/s]\n",
            "2024-12-05 16:10:11,804 INFO streaming.PipeMapRed: Records R/W=256/1\n",
            "2024-12-05 16:10:11,811 INFO streaming.PipeMapRed: MRErrorThread done\n",
            "2024-12-05 16:10:11,812 INFO streaming.PipeMapRed: mapRedFinished\n",
            "2024-12-05 16:10:11,814 INFO mapred.Task: Task:attempt_local961905387_0001_r_000000_0 is done. And is in the process of committing\n",
            "2024-12-05 16:10:11,815 INFO mapred.LocalJobRunner: 1 / 1 copied.\n",
            "2024-12-05 16:10:11,816 INFO mapred.Task: Task attempt_local961905387_0001_r_000000_0 is allowed to commit now\n",
            "2024-12-05 16:10:11,817 INFO output.FileOutputCommitter: Saved output of task 'attempt_local961905387_0001_r_000000_0' to file:/content/output_dir\n",
            "2024-12-05 16:10:11,818 INFO mapred.LocalJobRunner: Records R/W=256/1 > reduce\n",
            "2024-12-05 16:10:11,818 INFO mapred.Task: Task 'attempt_local961905387_0001_r_000000_0' done.\n",
            "2024-12-05 16:10:11,819 INFO mapred.Task: Final Counters for attempt_local961905387_0001_r_000000_0: Counters: 24\n",
            "\tFile System Counters\n",
            "\t\tFILE: Number of bytes read=152653\n",
            "\t\tFILE: Number of bytes written=789852\n",
            "\t\tFILE: Number of read operations=0\n",
            "\t\tFILE: Number of large read operations=0\n",
            "\t\tFILE: Number of write operations=0\n",
            "\tMap-Reduce Framework\n",
            "\t\tCombine input records=0\n",
            "\t\tCombine output records=0\n",
            "\t\tReduce input groups=156\n",
            "\t\tReduce shuffle bytes=3742\n",
            "\t\tReduce input records=256\n",
            "\t\tReduce output records=156\n",
            "\t\tSpilled Records=256\n",
            "\t\tShuffled Maps =1\n",
            "\t\tFailed Shuffles=0\n",
            "\t\tMerged Map outputs=1\n",
            "\t\tGC time elapsed (ms)=24\n",
            "\t\tTotal committed heap usage (bytes)=258473984\n",
            "\tShuffle Errors\n",
            "\t\tBAD_ID=0\n",
            "\t\tCONNECTION=0\n",
            "\t\tIO_ERROR=0\n",
            "\t\tWRONG_LENGTH=0\n",
            "\t\tWRONG_MAP=0\n",
            "\t\tWRONG_REDUCE=0\n",
            "\tFile Output Format Counters \n",
            "\t\tBytes Written=2242\n",
            "2024-12-05 16:10:11,819 INFO mapred.LocalJobRunner: Finishing task: attempt_local961905387_0001_r_000000_0\n",
            "2024-12-05 16:10:11,820 INFO mapred.LocalJobRunner: reduce task executor complete.\n",
            "2024-12-05 16:10:11,905 INFO mapreduce.Job: Job job_local961905387_0001 running in uber mode : false\n",
            "2024-12-05 16:10:11,906 INFO mapreduce.Job:  map 100% reduce 100%\n",
            "2024-12-05 16:10:11,907 INFO mapreduce.Job: Job job_local961905387_0001 completed successfully\n",
            "2024-12-05 16:10:11,921 INFO mapreduce.Job: Counters: 30\n",
            "\tFile System Counters\n",
            "\t\tFILE: Number of bytes read=297790\n",
            "\t\tFILE: Number of bytes written=1573720\n",
            "\t\tFILE: Number of read operations=0\n",
            "\t\tFILE: Number of large read operations=0\n",
            "\t\tFILE: Number of write operations=0\n",
            "\tMap-Reduce Framework\n",
            "\t\tMap input records=100\n",
            "\t\tMap output records=256\n",
            "\t\tMap output bytes=3224\n",
            "\t\tMap output materialized bytes=3742\n",
            "\t\tInput split bytes=87\n",
            "\t\tCombine input records=0\n",
            "\t\tCombine output records=0\n",
            "\t\tReduce input groups=156\n",
            "\t\tReduce shuffle bytes=3742\n",
            "\t\tReduce input records=256\n",
            "\t\tReduce output records=156\n",
            "\t\tSpilled Records=512\n",
            "\t\tShuffled Maps =1\n",
            "\t\tFailed Shuffles=0\n",
            "\t\tMerged Map outputs=1\n",
            "\t\tGC time elapsed (ms)=24\n",
            "\t\tTotal committed heap usage (bytes)=516947968\n",
            "\tShuffle Errors\n",
            "\t\tBAD_ID=0\n",
            "\t\tCONNECTION=0\n",
            "\t\tIO_ERROR=0\n",
            "\t\tWRONG_LENGTH=0\n",
            "\t\tWRONG_MAP=0\n",
            "\t\tWRONG_REDUCE=0\n",
            "\tFile Input Format Counters \n",
            "\t\tBytes Read=3727\n",
            "\tFile Output Format Counters \n",
            "\t\tBytes Written=2242\n",
            "2024-12-05 16:10:11,921 INFO streaming.StreamJob: Output directory: output_dir\n"
          ]
        }
      ]
    },
    {
      "cell_type": "code",
      "source": [
        "## Cek output\n",
        "\n",
        "!cat output_dir/part-00000\n"
      ],
      "metadata": {
        "colab": {
          "base_uri": "https://localhost:8080/"
        },
        "id": "aAprg3M0llEU",
        "outputId": "b139dd72-354c-4d97-e6dd-f6263c3ad993"
      },
      "execution_count": 24,
      "outputs": [
        {
          "output_type": "stream",
          "name": "stdout",
          "text": [
            "!</span>\t1\n",
            "#000000;\t1\n",
            "'Times\t2\n",
            ".awdiv\t1\n",
            ".awimg\t1\n",
            ".awpage\t2\n",
            ".awspan\t1\n",
            ".awsvg\t1\n",
            ".awtext001\t1\n",
            "/>\t2\n",
            "0.8a781202.1733412589.746c85f8</ref-id>\t1\n",
            "0pt;\t4\n",
            "10pt\t2\n",
            "12pt;\t1\n",
            "1pt\t1\n",
            "403</span>\t1\n",
            "<!DOCTYPE\t1\n",
            "</a>\t2\n",
            "</body>\t1\n",
            "</div>\t11\n",
            "</head>\t1\n",
            "</html>\t1\n",
            "</style>\t1\n",
            "<a\t2\n",
            "<body>\t1\n",
            "<div\t10\n",
            "<head>\t1\n",
            "<html>\t1\n",
            "<img\t1\n",
            "<meta\t1\n",
            "<ref-id\t1\n",
            "<span\t6\n",
            "<style\t1\n",
            "<title>Dewan\t1\n",
            "@font-face\t1\n",
            "@media\t1\n",
            "Access\t1\n",
            "Beranda</span></div></a><a\t1\n",
            "Code\t1\n",
            "Denied\t1\n",
            "HTTP\t1\n",
            "Home</span>\t1\n",
            "ID:\t1\n",
            "INDONESIA</span>\t1\n",
            "New\t2\n",
            "PERWAKILAN\t1\n",
            "Perwakilan\t1\n",
            "RAKYAT\t1\n",
            "REPUBLIK\t1\n",
            "Rakyat</title>\t1\n",
            "Reference\t1\n",
            "Roman';\t2\n",
            "absolute;\t4\n",
            "access\t1\n",
            "always;\t1\n",
            "auto\t1\n",
            "auto;\t1\n",
            "awpage\"\t1\n",
            "awtext001\"\t7\n",
            "background-image:\t1\n",
            "background-position:\t1\n",
            "background-size:\t1\n",
            "black;\t1\n",
            "body\t1\n",
            "border:\t1\n",
            "center\">Detail\t1\n",
            "center\">Sorry,\t1\n",
            "center\">The\t1\n",
            "center\">You\t1\n",
            "center;\t1\n",
            "charset=utf-8\"\t1\n",
            "class=\"awdiv\t1\n",
            "class=\"awdiv\"\t7\n",
            "class=\"awdiv\">\t3\n",
            "class=\"awimg\"\t1\n",
            "class=\"awspan\t7\n",
            "color:\t1\n",
            "color:#4c4c4c;\t2\n",
            "color:#4d4d4d;\t1\n",
            "content=\"text/html;\t1\n",
            "cover;\t1\n",
            "currently\t1\n",
            "don't\t1\n",
            "font-family:\t2\n",
            "font-size:\t1\n",
            "font-style:\t2\n",
            "font-weight:\t2\n",
            "for\t1\n",
            "forbidden\t1\n",
            "have\t1\n",
            "height:69pt;\"\t1\n",
            "height:792pt;\">\t1\n",
            "hidden;\t1\n",
            "href=\"https://www.dpr.go.id/\">\t2\n",
            "href=\"https://www.dpr.go.id/\"><div\t1\n",
            "html>\t1\n",
            "http-equiv=\"Content-Type\"\t1\n",
            "is\t1\n",
            "ke\t1\n",
            "left:127.17pt;\t1\n",
            "left:184.69pt;\t1\n",
            "left:199.34pt;\t1\n",
            "left:31.87pt;\t1\n",
            "left:54.97pt;\t2\n",
            "letter-spacing:0.4pt;\t1\n",
            "margin:\t3\n",
            "normal;\t4\n",
            "overflow:\t1\n",
            "padding:\t2\n",
            "page\t1\n",
            "page,\t1\n",
            "page-break-after:\t1\n",
            "permission\t1\n",
            "position:\t5\n",
            "pre;\t1\n",
            "print\t1\n",
            "reach\t1\n",
            "reason</span>\t1\n",
            "relative;\t1\n",
            "solid\t1\n",
            "some\t1\n",
            "src=\"https://www.dpr.go.id/site-failover/maintenance/logo.png\"\t1\n",
            "style=\"color:#d4a216;\t2\n",
            "style=\"font-size:10.70pt;\t1\n",
            "style=\"font-size:12.56pt;\t1\n",
            "style=\"font-size:15pt;\t1\n",
            "style=\"font-size:18pt;\t1\n",
            "style=\"font-size:27pt;\t1\n",
            "style=\"left:197.62pt;\t1\n",
            "style=\"left:72pt;\t2\n",
            "style=\"top:151.5pt;\">\t1\n",
            "style=\"top:190.05pt;\">\t1\n",
            "style=\"top:265.49pt;\">\t1\n",
            "style=\"top:307.57pt;\">\t1\n",
            "style=\"top:69pt;\">\t1\n",
            "style=\"width:612pt;\t1\n",
            "text-align:\t4\n",
            "this\t1\n",
            "to\t3\n",
            "top:0.45pt;\t1\n",
            "top:0.51pt;\">Kembali\t1\n",
            "top:0pt;\t1\n",
            "top:1.15pt;\t1\n",
            "top:12.45pt;\t1\n",
            "top:14.31pt;\">Back\t1\n",
            "top:5.89pt;\">DEWAN\t1\n",
            "top:72pt;\">\t2\n",
            "trying\t1\n",
            "type=\"text/css\">\t1\n",
            "url('https://www.dpr.go.id/site-failover/maintenance/kawung.png');\t1\n",
            "were\t1\n",
            "white-space:\t1\n",
            "width:72.75pt;\t1\n",
            "you\t1\n",
            "{\t10\n",
            "}\t10\n"
          ]
        }
      ]
    },
    {
      "cell_type": "code",
      "source": [
        "## Simpan Output\n",
        "\n",
        "!cat output_dir/part-00000 > output_word_count.txt\n"
      ],
      "metadata": {
        "id": "aFISHuJElmKz"
      },
      "execution_count": 25,
      "outputs": []
    },
    {
      "cell_type": "code",
      "source": [
        "## Download Output\n",
        "\n",
        "from google.colab import files\n",
        "files.download(\"output_word_count.txt\")\n"
      ],
      "metadata": {
        "colab": {
          "base_uri": "https://localhost:8080/",
          "height": 17
        },
        "id": "4XgpIwMFl7YT",
        "outputId": "7fa0c979-1608-4c10-ec40-55805521b7f3"
      },
      "execution_count": 26,
      "outputs": [
        {
          "output_type": "display_data",
          "data": {
            "text/plain": [
              "<IPython.core.display.Javascript object>"
            ],
            "application/javascript": [
              "\n",
              "    async function download(id, filename, size) {\n",
              "      if (!google.colab.kernel.accessAllowed) {\n",
              "        return;\n",
              "      }\n",
              "      const div = document.createElement('div');\n",
              "      const label = document.createElement('label');\n",
              "      label.textContent = `Downloading \"${filename}\": `;\n",
              "      div.appendChild(label);\n",
              "      const progress = document.createElement('progress');\n",
              "      progress.max = size;\n",
              "      div.appendChild(progress);\n",
              "      document.body.appendChild(div);\n",
              "\n",
              "      const buffers = [];\n",
              "      let downloaded = 0;\n",
              "\n",
              "      const channel = await google.colab.kernel.comms.open(id);\n",
              "      // Send a message to notify the kernel that we're ready.\n",
              "      channel.send({})\n",
              "\n",
              "      for await (const message of channel.messages) {\n",
              "        // Send a message to notify the kernel that we're ready.\n",
              "        channel.send({})\n",
              "        if (message.buffers) {\n",
              "          for (const buffer of message.buffers) {\n",
              "            buffers.push(buffer);\n",
              "            downloaded += buffer.byteLength;\n",
              "            progress.value = downloaded;\n",
              "          }\n",
              "        }\n",
              "      }\n",
              "      const blob = new Blob(buffers, {type: 'application/binary'});\n",
              "      const a = document.createElement('a');\n",
              "      a.href = window.URL.createObjectURL(blob);\n",
              "      a.download = filename;\n",
              "      div.appendChild(a);\n",
              "      a.click();\n",
              "      div.remove();\n",
              "    }\n",
              "  "
            ]
          },
          "metadata": {}
        },
        {
          "output_type": "display_data",
          "data": {
            "text/plain": [
              "<IPython.core.display.Javascript object>"
            ],
            "application/javascript": [
              "download(\"download_63fb438e-a7f8-4cc9-839b-e55953905028\", \"output_word_count.txt\", 2214)"
            ]
          },
          "metadata": {}
        }
      ]
    }
  ]
}